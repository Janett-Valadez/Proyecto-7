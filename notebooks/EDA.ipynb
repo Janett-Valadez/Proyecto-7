{
 "cells": [
  {
   "cell_type": "code",
   "execution_count": 1,
   "id": "5d0f2cd2",
   "metadata": {},
   "outputs": [],
   "source": [
    "# Import library\n",
    "import streamlit as st\n",
    "import pandas as pd\n",
    "import plotly.express as px"
   ]
  },
  {
   "cell_type": "code",
   "execution_count": 9,
   "id": "63097621",
   "metadata": {},
   "outputs": [],
   "source": [
    "# Load data\n",
    "df_cars = pd.read_csv('C:/Users/maja_/tripleten/projects/Proyecto-7/vehicles_us.csv')"
   ]
  },
  {
   "cell_type": "code",
   "execution_count": 4,
   "id": "f070a24f",
   "metadata": {},
   "outputs": [
    {
     "name": "stderr",
     "output_type": "stream",
     "text": [
      "2025-10-05 15:40:05.308 Thread 'MainThread': missing ScriptRunContext! This warning can be ignored when running in bare mode.\n",
      "2025-10-05 15:40:05.309 Thread 'MainThread': missing ScriptRunContext! This warning can be ignored when running in bare mode.\n",
      "2025-10-05 15:40:05.310 Thread 'MainThread': missing ScriptRunContext! This warning can be ignored when running in bare mode.\n"
     ]
    },
    {
     "data": {
      "text/plain": [
       "DeltaGenerator()"
      ]
     },
     "execution_count": 4,
     "metadata": {},
     "output_type": "execute_result"
    }
   ],
   "source": [
    "# Add a header\n",
    "st.header('Anuncio de coches')"
   ]
  },
  {
   "cell_type": "code",
   "execution_count": 5,
   "id": "01f91455",
   "metadata": {},
   "outputs": [
    {
     "name": "stderr",
     "output_type": "stream",
     "text": [
      "2025-10-05 15:40:14.115 Thread 'MainThread': missing ScriptRunContext! This warning can be ignored when running in bare mode.\n",
      "2025-10-05 15:40:14.116 Thread 'MainThread': missing ScriptRunContext! This warning can be ignored when running in bare mode.\n",
      "2025-10-05 15:40:14.117 Thread 'MainThread': missing ScriptRunContext! This warning can be ignored when running in bare mode.\n",
      "2025-10-05 15:40:14.118 Thread 'MainThread': missing ScriptRunContext! This warning can be ignored when running in bare mode.\n",
      "2025-10-05 15:40:14.119 Thread 'MainThread': missing ScriptRunContext! This warning can be ignored when running in bare mode.\n",
      "2025-10-05 15:40:14.121 Thread 'MainThread': missing ScriptRunContext! This warning can be ignored when running in bare mode.\n"
     ]
    }
   ],
   "source": [
    "# Create histogram button\n",
    "hist_button = st.button('Construir Histograma')"
   ]
  },
  {
   "cell_type": "code",
   "execution_count": 6,
   "id": "0b0dea01",
   "metadata": {},
   "outputs": [],
   "source": [
    "# Logic to press histogram button\n",
    "if hist_button:\n",
    "    st.write('Creación de un histograma para el conjunto de datos de anuncios de venta de autos en Norte América')\n",
    "    fig_hist = px.histogram(df_cars, x='odometer')\n",
    "    st.plotly_chart(fig_hist, use_container_width=True)"
   ]
  },
  {
   "cell_type": "code",
   "execution_count": 7,
   "id": "982797c0",
   "metadata": {},
   "outputs": [
    {
     "name": "stderr",
     "output_type": "stream",
     "text": [
      "2025-10-05 15:40:27.437 Thread 'MainThread': missing ScriptRunContext! This warning can be ignored when running in bare mode.\n",
      "2025-10-05 15:40:27.438 Thread 'MainThread': missing ScriptRunContext! This warning can be ignored when running in bare mode.\n",
      "2025-10-05 15:40:27.439 Thread 'MainThread': missing ScriptRunContext! This warning can be ignored when running in bare mode.\n",
      "2025-10-05 15:40:27.440 Thread 'MainThread': missing ScriptRunContext! This warning can be ignored when running in bare mode.\n",
      "2025-10-05 15:40:27.442 Thread 'MainThread': missing ScriptRunContext! This warning can be ignored when running in bare mode.\n",
      "2025-10-05 15:40:27.443 Thread 'MainThread': missing ScriptRunContext! This warning can be ignored when running in bare mode.\n"
     ]
    }
   ],
   "source": [
    "# Create dispersion button\n",
    "scatter_button = st.button('Construir Diagrama de Dispersión')"
   ]
  },
  {
   "cell_type": "code",
   "execution_count": 8,
   "id": "916bc3c8",
   "metadata": {},
   "outputs": [],
   "source": [
    "# Logic to press dispersion button\n",
    "if scatter_button:\n",
    "    st.write('Creación de un diagrama de dispersión para el conjunto de datos de anuncios de venta de autos en Norte América')\n",
    "    fig_scatter = px.scatter(df_cars, x=\"odometer\", y='price')\n",
    "    st.plotly_chart(fig_scatter)"
   ]
  }
 ],
 "metadata": {
  "kernelspec": {
   "display_name": "vehicles_env",
   "language": "python",
   "name": "python3"
  },
  "language_info": {
   "codemirror_mode": {
    "name": "ipython",
    "version": 3
   },
   "file_extension": ".py",
   "mimetype": "text/x-python",
   "name": "python",
   "nbconvert_exporter": "python",
   "pygments_lexer": "ipython3",
   "version": "3.13.7"
  }
 },
 "nbformat": 4,
 "nbformat_minor": 5
}
